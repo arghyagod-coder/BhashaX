{
  "nbformat": 4,
  "nbformat_minor": 0,
  "metadata": {
    "colab": {
      "name": "BhashaX.ipynb",
      "provenance": [],
      "collapsed_sections": [],
      "authorship_tag": "ABX9TyOULa/+ggvsmFxS935I1XC3",
      "include_colab_link": true
    },
    "kernelspec": {
      "name": "python3",
      "display_name": "Python 3"
    },
    "language_info": {
      "name": "python"
    }
  },
  "cells": [
    {
      "cell_type": "markdown",
      "metadata": {
        "id": "view-in-github",
        "colab_type": "text"
      },
      "source": [
        "<a href=\"https://colab.research.google.com/github/krishyadav007/BhashaX/blob/main/BhashaX.ipynb\" target=\"_parent\"><img src=\"https://colab.research.google.com/assets/colab-badge.svg\" alt=\"Open In Colab\"/></a>"
      ]
    },
    {
      "cell_type": "markdown",
      "metadata": {
        "id": "G9a6O9OyiFrM"
      },
      "source": [
        "<img src=\"https://krishyadav.com/BhashaX/img/Logo.png\" width=\"60\" height=\"60\" alt=\"\">\n",
        "\n",
        "# BhashaX\n",
        "\n",
        "Please note by using our application you aree agreeing to [License](https://github.com/krishyadav007/BhashaX/blob/main/Download/License)\n",
        "\n",
        "Welcome this is BhashaX stater code for Hindi"
      ]
    },
    {
      "cell_type": "markdown",
      "metadata": {
        "id": "Us4yLapxlVuM"
      },
      "source": [
        "### Installating software and ENV file"
      ]
    },
    {
      "cell_type": "code",
      "metadata": {
        "colab": {
          "base_uri": "https://localhost:8080/"
        },
        "id": "tFMdJa_IhlSI",
        "outputId": "c17d4152-dc66-4b10-e128-48f3a5a868a4"
      },
      "source": [
        "!wget https://github.com/krishyadav007/BhashaX/raw/main/Download/compiler\n",
        "!wget https://github.com/krishyadav007/BhashaX/raw/main/ENV/ENV.json"
      ],
      "execution_count": 1,
      "outputs": [
        {
          "output_type": "stream",
          "text": [
            "--2021-06-12 17:15:02--  https://github.com/krishyadav007/BhashaX/raw/main/Download/compiler\n",
            "Resolving github.com (github.com)... 140.82.113.3\n",
            "Connecting to github.com (github.com)|140.82.113.3|:443... connected.\n",
            "HTTP request sent, awaiting response... 302 Found\n",
            "Location: https://raw.githubusercontent.com/krishyadav007/BhashaX/main/Download/compiler [following]\n",
            "--2021-06-12 17:15:02--  https://raw.githubusercontent.com/krishyadav007/BhashaX/main/Download/compiler\n",
            "Resolving raw.githubusercontent.com (raw.githubusercontent.com)... 185.199.109.133, 185.199.108.133, 185.199.111.133, ...\n",
            "Connecting to raw.githubusercontent.com (raw.githubusercontent.com)|185.199.109.133|:443... connected.\n",
            "HTTP request sent, awaiting response... 200 OK\n",
            "Length: 9668832 (9.2M) [application/octet-stream]\n",
            "Saving to: ‘compiler’\n",
            "\n",
            "compiler            100%[===================>]   9.22M  23.0MB/s    in 0.4s    \n",
            "\n",
            "2021-06-12 17:15:03 (23.0 MB/s) - ‘compiler’ saved [9668832/9668832]\n",
            "\n",
            "--2021-06-12 17:15:03--  https://github.com/krishyadav007/BhashaX/raw/main/ENV/ENV.json\n",
            "Resolving github.com (github.com)... 140.82.113.3\n",
            "Connecting to github.com (github.com)|140.82.113.3|:443... connected.\n",
            "HTTP request sent, awaiting response... 302 Found\n",
            "Location: https://raw.githubusercontent.com/krishyadav007/BhashaX/main/ENV/ENV.json [following]\n",
            "--2021-06-12 17:15:03--  https://raw.githubusercontent.com/krishyadav007/BhashaX/main/ENV/ENV.json\n",
            "Resolving raw.githubusercontent.com (raw.githubusercontent.com)... 185.199.108.133, 185.199.109.133, 185.199.110.133, ...\n",
            "Connecting to raw.githubusercontent.com (raw.githubusercontent.com)|185.199.108.133|:443... connected.\n",
            "HTTP request sent, awaiting response... 200 OK\n",
            "Length: 4363 (4.3K) [text/plain]\n",
            "Saving to: ‘ENV.json’\n",
            "\n",
            "ENV.json            100%[===================>]   4.26K  --.-KB/s    in 0s      \n",
            "\n",
            "2021-06-12 17:15:03 (48.1 MB/s) - ‘ENV.json’ saved [4363/4363]\n",
            "\n"
          ],
          "name": "stdout"
        }
      ]
    },
    {
      "cell_type": "markdown",
      "metadata": {
        "id": "q15AIR9slyh3"
      },
      "source": [
        "# Please type your code below\n",
        "\n",
        "### Since we are using google colab, please write the code in following format."
      ]
    },
    {
      "cell_type": "code",
      "metadata": {
        "id": "WFu6ATjglTxm"
      },
      "source": [
        "%%writefile file.py.hien\", \"w\")  # write mode\n",
        "%अगर \"१\" %में \"१२३४५६७८९०\": \\n\n",
        "  @दिखाए(\"हाँ\") \\n\n",
        "%अन्यथा: \\n\n",
        "  @दिखाए(\"नहीं\") \\n\n",
      ],
      "execution_count": 2,
      "outputs": []
    },
    {
      "cell_type": "markdown",
      "metadata": {
        "id": "9LM_5rP-pj07"
      },
      "source": [
        "## Executing the code"
      ]
    },
    {
      "cell_type": "code",
      "metadata": {
        "colab": {
          "base_uri": "https://localhost:8080/"
        },
        "id": "KxIDfVACpjP1",
        "outputId": "fe1c0de8-ee06-4825-c239-a54781d6305f"
      },
      "source": [
        "!chmod +x compiler\n",
        "!./compiler file"
      ],
      "execution_count": 3,
      "outputs": [
        {
          "output_type": "stream",
          "text": [
            "हाँ\n"
          ],
          "name": "stdout"
        }
      ]
    }
  ]
}
