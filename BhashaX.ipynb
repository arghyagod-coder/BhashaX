{
  "nbformat": 4,
  "nbformat_minor": 0,
  "metadata": {
    "colab": {
      "name": "BhashaX.ipynb",
      "provenance": [],
      "collapsed_sections": []
    },
    "kernelspec": {
      "name": "python3",
      "display_name": "Python 3"
    },
    "language_info": {
      "name": "python"
    }
  },
  "cells": [
    {
      "cell_type": "markdown",
      "metadata": {
        "id": "G9a6O9OyiFrM"
      },
      "source": [
        "<img src=\"https://krishyadav.com/BhashaX/img/Logo.png\" width=\"60\" height=\"60\" alt=\"\">\n",
        "\n",
        "# BhashaX\n",
        "\n",
        "Please note by using our application you aree agreeing to [License](https://github.com/krishyadav007/BhashaX/blob/main/Download/License)\n",
        "\n",
        "Welcome this is BhashaX stater code for Hindi"
      ]
    },
    {
      "cell_type": "markdown",
      "metadata": {
        "id": "Us4yLapxlVuM"
      },
      "source": [
        "### Installating software and ENV file"
      ]
    },
    {
      "cell_type": "code",
      "metadata": {
        "colab": {
          "base_uri": "https://localhost:8080/"
        },
        "id": "tFMdJa_IhlSI",
        "outputId": "53c76b2e-28e6-4baa-c131-e118b9e54df3"
      },
      "source": [
        "!wget https://github.com/krishyadav007/BhashaX/raw/main/Download/compiler\n",
        "!wget https://github.com/krishyadav007/BhashaX/raw/main/ENV/ENV.json"
      ],
      "execution_count": 1,
      "outputs": [
        {
          "output_type": "stream",
          "name": "stdout",
          "text": [
            "--2021-09-03 15:04:38--  https://github.com/krishyadav007/BhashaX/raw/main/Download/compiler\n",
            "Resolving github.com (github.com)... 140.82.114.3\n",
            "Connecting to github.com (github.com)|140.82.114.3|:443... connected.\n",
            "HTTP request sent, awaiting response... 302 Found\n",
            "Location: https://raw.githubusercontent.com/krishyadav007/BhashaX/main/Download/compiler [following]\n",
            "--2021-09-03 15:04:39--  https://raw.githubusercontent.com/krishyadav007/BhashaX/main/Download/compiler\n",
            "Resolving raw.githubusercontent.com (raw.githubusercontent.com)... 185.199.108.133, 185.199.109.133, 185.199.110.133, ...\n",
            "Connecting to raw.githubusercontent.com (raw.githubusercontent.com)|185.199.108.133|:443... connected.\n",
            "HTTP request sent, awaiting response... 200 OK\n",
            "Length: 9668832 (9.2M) [application/octet-stream]\n",
            "Saving to: ‘compiler’\n",
            "\n",
            "compiler            100%[===================>]   9.22M  --.-KB/s    in 0.08s   \n",
            "\n",
            "2021-09-03 15:04:39 (113 MB/s) - ‘compiler’ saved [9668832/9668832]\n",
            "\n",
            "--2021-09-03 15:04:39--  https://github.com/krishyadav007/BhashaX/raw/main/ENV/ENV.json\n",
            "Resolving github.com (github.com)... 140.82.114.3\n",
            "Connecting to github.com (github.com)|140.82.114.3|:443... connected.\n",
            "HTTP request sent, awaiting response... 302 Found\n",
            "Location: https://raw.githubusercontent.com/krishyadav007/BhashaX/main/ENV/ENV.json [following]\n",
            "--2021-09-03 15:04:39--  https://raw.githubusercontent.com/krishyadav007/BhashaX/main/ENV/ENV.json\n",
            "Resolving raw.githubusercontent.com (raw.githubusercontent.com)... 185.199.108.133, 185.199.109.133, 185.199.110.133, ...\n",
            "Connecting to raw.githubusercontent.com (raw.githubusercontent.com)|185.199.108.133|:443... connected.\n",
            "HTTP request sent, awaiting response... 200 OK\n",
            "Length: 4363 (4.3K) [text/plain]\n",
            "Saving to: ‘ENV.json’\n",
            "\n",
            "ENV.json            100%[===================>]   4.26K  --.-KB/s    in 0s      \n",
            "\n",
            "2021-09-03 15:04:39 (48.9 MB/s) - ‘ENV.json’ saved [4363/4363]\n",
            "\n"
          ]
        }
      ]
    },
    {
      "cell_type": "markdown",
      "metadata": {
        "id": "q15AIR9slyh3"
      },
      "source": [
        "# Please type your code below\n",
        "\n",
        "### Since we are using google colab, please write the code in following format."
      ]
    },
    {
      "cell_type": "code",
      "metadata": {
        "id": "WFu6ATjglTxm",
        "outputId": "59a55c07-9ad4-4515-9cda-84ab07653a15",
        "colab": {
          "base_uri": "https://localhost:8080/"
        }
      },
      "source": [
        "%%writefile file.py.hien\n",
        "\n",
        "%अगर \"१\" %में \"१२३४५६७८९०\":\n",
        "  @दिखाए(\"हाँ\")\n",
        "%अन्यथा:\n",
        "  @दिखाए(\"नहीं\")"
      ],
      "execution_count": 2,
      "outputs": [
        {
          "output_type": "stream",
          "name": "stdout",
          "text": [
            "Writing file.py.hien\n"
          ]
        }
      ]
    },
    {
      "cell_type": "markdown",
      "metadata": {
        "id": "9LM_5rP-pj07"
      },
      "source": [
        "## Executing the code"
      ]
    },
    {
      "cell_type": "code",
      "metadata": {
        "colab": {
          "base_uri": "https://localhost:8080/"
        },
        "id": "KxIDfVACpjP1",
        "outputId": "e1a5f4c7-dcfd-43a4-aa9a-be1641d3e0ac"
      },
      "source": [
        "!chmod +x compiler\n",
        "!./compiler file"
      ],
      "execution_count": 3,
      "outputs": [
        {
          "output_type": "stream",
          "name": "stdout",
          "text": [
            "हाँ\n"
          ]
        }
      ]
    },
    {
      "cell_type": "code",
      "metadata": {
        "id": "Qqfc5iPeMHgM"
      },
      "source": [
        ""
      ],
      "execution_count": null,
      "outputs": []
    }
  ]
}
